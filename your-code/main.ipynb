{
 "cells": [
  {
   "cell_type": "markdown",
   "id": "640f3179",
   "metadata": {},
   "source": [
    "# Challenge 1:\n",
    "\n",
    "https://public.tableau.com/shared/BCY38R9B9?:display_count=n&:origin=viz_share_link"
   ]
  },
  {
   "cell_type": "markdown",
   "id": "8f8527b2",
   "metadata": {},
   "source": [
    "```html\n",
    "<div class='tableauPlaceholder' id='viz1699545988124' style='position: relative'><noscript><a href='#'><img alt='NFL Team Performance ' src='https:&#47;&#47;public.tableau.com&#47;static&#47;images&#47;BC&#47;BCY38R9B9&#47;1_rss.png' style='border: none' /></a></noscript><object class='tableauViz'  style='display:none;'><param name='host_url' value='https%3A%2F%2Fpublic.tableau.com%2F' /> <param name='embed_code_version' value='3' /> <param name='path' value='shared&#47;BCY38R9B9' /> <param name='toolbar' value='yes' /><param name='static_image' value='https:&#47;&#47;public.tableau.com&#47;static&#47;images&#47;BC&#47;BCY38R9B9&#47;1.png' /> <param name='animate_transition' value='yes' /><param name='display_static_image' value='yes' /><param name='display_spinner' value='yes' /><param name='display_overlay' value='yes' /><param name='display_count' value='yes' /><param name='language' value='es-ES' /><param name='filter' value='publish=yes' /></object></div>                <script type='text/javascript'>                    var divElement = document.getElementById('viz1699545988124');                    var vizElement = divElement.getElementsByTagName('object')[0];                    vizElement.style.width='1169px';vizElement.style.height='854px';                    var scriptElement = document.createElement('script');                    scriptElement.src = 'https://public.tableau.com/javascripts/api/viz_v1.js';                    vizElement.parentNode.insertBefore(scriptElement, vizElement);                </script>\n",
    "```"
   ]
  },
  {
   "cell_type": "markdown",
   "id": "ca4c11e1",
   "metadata": {},
   "source": [
    "___\n",
    "# Bonus:\n",
    "\n",
    "https://public.tableau.com/views/Libro_Countries_World/Historia1?:language=es-ES&publish=yes&:display_count=n&:origin=viz_share_link"
   ]
  },
  {
   "cell_type": "markdown",
   "id": "2f399fb6",
   "metadata": {},
   "source": [
    "```html\n",
    "<div class='tableauPlaceholder' id='viz1699547490092' style='position: relative'><noscript><a href='#'><img alt='&lt;Countries of the World&gt; ' src='https:&#47;&#47;public.tableau.com&#47;static&#47;images&#47;Li&#47;Libro_Countries_World&#47;Historia1&#47;1_rss.png' style='border: none' /></a></noscript><object class='tableauViz'  style='display:none;'><param name='host_url' value='https%3A%2F%2Fpublic.tableau.com%2F' /> <param name='embed_code_version' value='3' /> <param name='site_root' value='' /><param name='name' value='Libro_Countries_World&#47;Historia1' /><param name='tabs' value='no' /><param name='toolbar' value='yes' /><param name='static_image' value='https:&#47;&#47;public.tableau.com&#47;static&#47;images&#47;Li&#47;Libro_Countries_World&#47;Historia1&#47;1.png' /> <param name='animate_transition' value='yes' /><param name='display_static_image' value='yes' /><param name='display_spinner' value='yes' /><param name='display_overlay' value='yes' /><param name='display_count' value='yes' /><param name='language' value='es-ES' /><param name='filter' value='publish=yes' /></object></div>                <script type='text/javascript'>                    var divElement = document.getElementById('viz1699547490092');                    var vizElement = divElement.getElementsByTagName('object')[0];                    vizElement.style.width='1016px';vizElement.style.height='991px';                    var scriptElement = document.createElement('script');                    scriptElement.src = 'https://public.tableau.com/javascripts/api/viz_v1.js';                    vizElement.parentNode.insertBefore(scriptElement, vizElement);                </script>\n",
    "```"
   ]
  },
  {
   "cell_type": "code",
   "execution_count": null,
   "id": "73c120d2",
   "metadata": {},
   "outputs": [],
   "source": []
  }
 ],
 "metadata": {
  "kernelspec": {
   "display_name": "Python 3 (ipykernel)",
   "language": "python",
   "name": "python3"
  },
  "language_info": {
   "codemirror_mode": {
    "name": "ipython",
    "version": 3
   },
   "file_extension": ".py",
   "mimetype": "text/x-python",
   "name": "python",
   "nbconvert_exporter": "python",
   "pygments_lexer": "ipython3",
   "version": "3.11.4"
  }
 },
 "nbformat": 4,
 "nbformat_minor": 5
}
