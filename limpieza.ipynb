{
 "cells": [
  {
   "cell_type": "code",
   "execution_count": 2,
   "metadata": {},
   "outputs": [],
   "source": [
    "import pandas as pd"
   ]
  },
  {
   "cell_type": "code",
   "execution_count": 4,
   "metadata": {},
   "outputs": [],
   "source": [
    "nfl = pd.read_csv('data/nfl_football_team_stats.csv')"
   ]
  },
  {
   "cell_type": "code",
   "execution_count": 7,
   "metadata": {},
   "outputs": [],
   "source": [
    "nfl['Year'] = nfl['Year'].astype(str)"
   ]
  },
  {
   "cell_type": "code",
   "execution_count": 8,
   "metadata": {},
   "outputs": [
    {
     "data": {
      "text/plain": [
       "Year                              object\n",
       "Date                              object\n",
       "GameNumber                         int64\n",
       "GameLocation                      object\n",
       "Team                              object\n",
       "TeamScore                          int64\n",
       "Opponent                          object\n",
       "OppponentScore                     int64\n",
       "Result                            object\n",
       "PassingAttempts                    int64\n",
       "PassingCompletions                 int64\n",
       "PassingInterceptions               int64\n",
       "PasserRating                     float64\n",
       "PassingSacks                       int64\n",
       "PassingSacksYardsLost              int64\n",
       "PassingTouchdowns                  int64\n",
       "PassingYards                       int64\n",
       "ReceivingReceptions                int64\n",
       "ReceivingTargets                   int64\n",
       "ReceivingTouchdowns                int64\n",
       "ReceivingYards                     int64\n",
       "RushingAttempts                    int64\n",
       "RushingTouchdowns                  int64\n",
       "RushingYards                       int64\n",
       "DefenseTackes                      int64\n",
       "DefenseTackleAssists               int64\n",
       "DefenseSacks                     float64\n",
       "DefenseSafeties                    int64\n",
       "DefenseInterceptions               int64\n",
       "DefenseInterceptionYards           int64\n",
       "DefenseInterceptionTouchdowns      int64\n",
       "KickReturnAttempts                 int64\n",
       "KickReturnTouchdowns               int64\n",
       "KickReturnYards                    int64\n",
       "PuntReturnAttempts                 int64\n",
       "PuntReturnTouchdowns               int64\n",
       "PuntReturnYards                    int64\n",
       "FieldGoalAttempts                  int64\n",
       "FieldGoals                         int64\n",
       "PuntingAttempts                    int64\n",
       "PuntsBlocked                       int64\n",
       "PuntingYards                       int64\n",
       "dtype: object"
      ]
     },
     "execution_count": 8,
     "metadata": {},
     "output_type": "execute_result"
    }
   ],
   "source": [
    "nfl.dtypes"
   ]
  },
  {
   "cell_type": "markdown",
   "metadata": {},
   "source": [
    "## Export"
   ]
  },
  {
   "cell_type": "code",
   "execution_count": 12,
   "metadata": {},
   "outputs": [],
   "source": [
    "nfl.to_csv('data/nfl_teams.csv', index=False)"
   ]
  }
 ],
 "metadata": {
  "kernelspec": {
   "display_name": "base",
   "language": "python",
   "name": "python3"
  },
  "language_info": {
   "codemirror_mode": {
    "name": "ipython",
    "version": 3
   },
   "file_extension": ".py",
   "mimetype": "text/x-python",
   "name": "python",
   "nbconvert_exporter": "python",
   "pygments_lexer": "ipython3",
   "version": "3.10.9"
  }
 },
 "nbformat": 4,
 "nbformat_minor": 2
}
